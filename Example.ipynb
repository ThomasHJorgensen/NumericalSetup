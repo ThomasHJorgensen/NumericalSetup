{
 "cells": [
  {
   "cell_type": "markdown",
   "id": "cbd51405",
   "metadata": {
    "papermill": {
     "duration": 0.010008,
     "end_time": "2023-07-13T16:17:40.652561",
     "exception": false,
     "start_time": "2023-07-13T16:17:40.642553",
     "status": "completed"
    },
    "tags": []
   },
   "source": [
    "# Example"
   ]
  },
  {
   "cell_type": "code",
   "execution_count": 1,
   "id": "03e04043",
   "metadata": {
    "execution": {
     "iopub.execute_input": "2023-07-13T16:17:40.694595Z",
     "iopub.status.busy": "2023-07-13T16:17:40.693595Z",
     "iopub.status.idle": "2023-07-13T16:17:40.861731Z",
     "shell.execute_reply": "2023-07-13T16:17:40.861731Z"
    },
    "papermill": {
     "duration": 0.176143,
     "end_time": "2023-07-13T16:17:40.864733",
     "exception": false,
     "start_time": "2023-07-13T16:17:40.688590",
     "status": "completed"
    },
    "tags": []
   },
   "outputs": [],
   "source": [
    "%load_ext autoreload\n",
    "%autoreload 2\n",
    "\n",
    "from Example import ModelClass\n",
    "model = ModelClass()\n",
    "\n",
    "# compile\n",
    "model.link_to_cpp(force_compile=True)"
   ]
  },
  {
   "cell_type": "code",
   "execution_count": 2,
   "id": "165325e9",
   "metadata": {},
   "outputs": [],
   "source": [
    "# setup a simple class (this would be done in seperate .py file)\n",
    "# TODO: \n",
    "# .py-file should be ok\n",
    "# write out the model in markdown in this file.\n",
    "# in cpp do the same setup with index files etc as I would do.\n"
   ]
  }
 ],
 "metadata": {
  "kernelspec": {
   "display_name": "Python 3 (ipykernel)",
   "language": "python",
   "name": "python3"
  },
  "language_info": {
   "codemirror_mode": {
    "name": "ipython",
    "version": 3
   },
   "file_extension": ".py",
   "mimetype": "text/x-python",
   "name": "python",
   "nbconvert_exporter": "python",
   "pygments_lexer": "ipython3",
   "version": "3.8.3"
  },
  "papermill": {
   "default_parameters": {},
   "duration": 12.544245,
   "end_time": "2023-07-13T16:17:51.074082",
   "environment_variables": {},
   "exception": null,
   "input_path": "03a. Using NLopt in C++.ipynb",
   "output_path": "temp_notebooks/03a. Using NLopt in C++.ipynb",
   "parameters": {},
   "start_time": "2023-07-13T16:17:38.529837",
   "version": "2.4.0"
  }
 },
 "nbformat": 4,
 "nbformat_minor": 5
}
